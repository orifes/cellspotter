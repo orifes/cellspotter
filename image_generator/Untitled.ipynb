{
 "cells": [
  {
   "cell_type": "markdown",
   "id": "88c1d8a4",
   "metadata": {},
   "source": [
    "# Backbone of the app"
   ]
  },
  {
   "cell_type": "markdown",
   "id": "3a013b05",
   "metadata": {},
   "source": [
    "## 0. Load the tiff images (to grayscale?)\n",
    "   **IN** tiff file name (tiff file?)\n",
    "   \n",
    "   *path --> im_stack --> im list*\n",
    "   \n",
    "   **OUT** list of images"
   ]
  },
  {
   "cell_type": "code",
   "execution_count": 8,
   "id": "d7e2fa02",
   "metadata": {},
   "outputs": [],
   "source": [
    "import tifffile\n",
    "import numpy as np\n",
    "import cv2\n",
    "import matplotlib.pyplot as plt\n",
    "\n",
    "def load_tiff_images(tiff_path):\n",
    "    image_stack = tifffile.imread(tiff_path)\n",
    "    return list(image_stack)"
   ]
  },
  {
   "cell_type": "code",
   "execution_count": 15,
   "id": "6d1ceffb",
   "metadata": {},
   "outputs": [],
   "source": []
  },
  {
   "cell_type": "markdown",
   "id": "2dbcdc95",
   "metadata": {},
   "source": [
    "## 1. preprocess the image depending on- blur kernel (?), dilate (?) threshold value\n",
    "   **IN** opencv image, threshold value, dilation value...\n",
    "   \n",
    "   *im -->  blur(?) --> dilate(?) --> threshold*\n",
    "   \n",
    "   **OUT** binary image, with dilated areas"
   ]
  },
  {
   "cell_type": "code",
   "execution_count": 193,
   "id": "38bbf068",
   "metadata": {},
   "outputs": [],
   "source": [
    "def blur_im(img, kernel_size=3):\n",
    "    blur = cv2.GaussianBlur(img, (kernel_size, kernel_size),0)\n",
    "    return blur\n",
    "\n",
    "def dilate_image(img, kernel_size=3):\n",
    "    kernel = np.ones((kernel_size,kernel_size))\n",
    "    kernel[0,0], kernel[0, kernel_size-1], kernel[kernel_size-1, 0],kernel[kernel_size-1, kernel_size-1] = 0,0,0,0 \n",
    "    kernel = kernel.astype(np.uint8)\n",
    "    dilated = cv2.dilate(img, kernel, iterations=1)\n",
    "    return dilated\n",
    "\n",
    "def threshold_image(img, threshold_value):\n",
    "    ret, thresh = cv2.threshold(img, threshold_value, 255, cv2.THRESH_BINARY)\n",
    "    return thresh\n",
    "\n",
    "def preprocess_image(img, threshold_value, kernel_size=3 ):\n",
    "    #todo: genrelize to N functions in order, multiple kernels\n",
    "    return threshold_image(dilate_image(blur_im(img, kernel_size), kernel_size), threshold_value)"
   ]
  },
  {
   "cell_type": "markdown",
   "id": "ae11c2f4",
   "metadata": {},
   "source": [
    "## 2. Find contours and store & present each sepparatley (on the main image?)"
   ]
  },
  {
   "cell_type": "code",
   "execution_count": 192,
   "id": "159da345",
   "metadata": {},
   "outputs": [],
   "source": [
    "def get_contours(img, min_area=0):\n",
    "    img = img.astype(np.uint8)\n",
    "    contours, heir = cv2.findContours(image=img, mode=cv2.RETR_EXTERNAL, method=cv2.CHAIN_APPROX_NONE)\n",
    "    contours = [con for con in contours if cv2.contourArea(con)> min_area]\n",
    "    return contours\n",
    "\n",
    "def draw_contours(img, contours, thick=3):\n",
    "#     todo: more space to play with the drawing\n",
    "    im_copy = img.copy()\n",
    "    cv2.drawContours(image=im_copy, contours=contours, contourIdx=-1, color=(255,0,0), thickness=7)\n",
    "    cv2.imwrite(\"p1.png\", im_copy)\n",
    "    return im_copy\n",
    "\n",
    "def get_contour_patch(img, contour):\n",
    "    x, y, w, h  = cv2.boundingRect(contour)\n",
    "    return img[ y:y+h, x:x+w] \n"
   ]
  },
  {
   "cell_type": "code",
   "execution_count": null,
   "id": "18d8fe0e",
   "metadata": {},
   "outputs": [],
   "source": [
    "\n"
   ]
  },
  {
   "cell_type": "markdown",
   "id": "578dd71d",
   "metadata": {},
   "source": [
    "## 3. scan other channels in each contour for contours!"
   ]
  },
  {
   "cell_type": "markdown",
   "id": "46122936",
   "metadata": {},
   "source": [
    "# TODO\n",
    "* think of an abstraction variable for 'smaller?' 'less fine?'\n",
    "* let the user define which channel to start with\n",
    "* ability to get rid from a contour\n",
    "* understand tiff file"
   ]
  }
 ],
 "metadata": {
  "kernelspec": {
   "display_name": "Python 3 (ipykernel)",
   "language": "python",
   "name": "python3"
  },
  "language_info": {
   "codemirror_mode": {
    "name": "ipython",
    "version": 3
   },
   "file_extension": ".py",
   "mimetype": "text/x-python",
   "name": "python",
   "nbconvert_exporter": "python",
   "pygments_lexer": "ipython3",
   "version": "3.8.2"
  }
 },
 "nbformat": 4,
 "nbformat_minor": 5
}
